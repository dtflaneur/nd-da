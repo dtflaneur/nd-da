{
 "cells": [
  {
   "cell_type": "markdown",
   "metadata": {},
   "source": [
    "## Titanic Data Investigation\n",
    "\n",
    "The sinking of Titanic is one of the most infamous shipwrecks in history. On April 15, 1912, during her maiden voyage, the Titanic sank after colliding with an iceberg, killing 1502 out of 2224 passengers and crew. This sensational tragedy shocked the world.\n",
    "\n",
    "One of the reasons that the shipwreck led to such loss of life was that there were not enough lifeboats for the passengers and crew. Although there was some element of luck involved in surviving the sinking, some groups of people were more likely to survive than others, such as women, children, and the upper-class."
   ]
  },
  {
   "cell_type": "markdown",
   "metadata": {},
   "source": [
    "[Titanic Data](https://d17h27t6h515a5.cloudfront.net/topher/2016/September/57e9a84c_titanic-data/titanic-data.csv) - Contains demographics and passenger information from 891 of the 2224 passengers and crew on board the Titanic. You can view a description of this dataset on [Kaggle](https://www.kaggle.com/c/titanic/data), from where the data was obtained."
   ]
  },
  {
   "cell_type": "markdown",
   "metadata": {},
   "source": [
    "#### We will use the data to find answers to few questions like \n",
    "\n",
    " -  Which gender had a better chance of survival ?\n",
    " -  Which social class had a better chance of survival ?\n",
    " -  Which age group had a better chance of survival ?\n",
    " -  Which one of Single, Husband, Father had a higher survival percent ?"
   ]
  },
  {
   "cell_type": "markdown",
   "metadata": {},
   "source": [
    "### Description of the Dataset"
   ]
  },
  {
   "cell_type": "markdown",
   "metadata": {},
   "source": [
    "titanic_data.csv:\n",
    "    \n",
    "Contains passenger information for passengerids 1-891:\n",
    "    \n",
    "```\n",
    "survival        Survival (0 = No; 1 = Yes)\n",
    "pclass          Passenger Class (1 = 1st; 2 = 2nd; 3 = 3rd)\n",
    "name            Name\n",
    "sex             Sex\n",
    "age             Age in years\n",
    "sibsp           Number of Siblings/Spouses Aboard\n",
    "parch           Number of Parents/Children Aboard\n",
    "ticket          Ticket Number\n",
    "fare            Passenger Fare\n",
    "cabin           Cabin\n",
    "embarked        Port of Embarkation (C = Cherbourg; Q = Queenstown; S = Southampton)\n",
    "```"
   ]
  },
  {
   "cell_type": "code",
   "execution_count": 285,
   "metadata": {},
   "outputs": [
    {
     "name": "stdout",
     "output_type": "stream",
     "text": [
      "Populating the interactive namespace from numpy and matplotlib\n"
     ]
    }
   ],
   "source": [
    "import pandas as pd\n",
    "import matplotlib.pyplot as plt\n",
    "import seaborn as sns\n",
    "%pylab inline"
   ]
  },
  {
   "cell_type": "markdown",
   "metadata": {},
   "source": [
    "### Read the csv into a dataframe"
   ]
  },
  {
   "cell_type": "code",
   "execution_count": 286,
   "metadata": {
    "collapsed": true
   },
   "outputs": [],
   "source": [
    "titanic_df = pd.read_csv('titanic-data.csv')"
   ]
  },
  {
   "cell_type": "code",
   "execution_count": 287,
   "metadata": {},
   "outputs": [
    {
     "data": {
      "text/html": [
       "<div>\n",
       "<style>\n",
       "    .dataframe thead tr:only-child th {\n",
       "        text-align: right;\n",
       "    }\n",
       "\n",
       "    .dataframe thead th {\n",
       "        text-align: left;\n",
       "    }\n",
       "\n",
       "    .dataframe tbody tr th {\n",
       "        vertical-align: top;\n",
       "    }\n",
       "</style>\n",
       "<table border=\"1\" class=\"dataframe\">\n",
       "  <thead>\n",
       "    <tr style=\"text-align: right;\">\n",
       "      <th></th>\n",
       "      <th>PassengerId</th>\n",
       "      <th>Survived</th>\n",
       "      <th>Pclass</th>\n",
       "      <th>Name</th>\n",
       "      <th>Sex</th>\n",
       "      <th>Age</th>\n",
       "      <th>SibSp</th>\n",
       "      <th>Parch</th>\n",
       "      <th>Ticket</th>\n",
       "      <th>Fare</th>\n",
       "      <th>Cabin</th>\n",
       "      <th>Embarked</th>\n",
       "    </tr>\n",
       "  </thead>\n",
       "  <tbody>\n",
       "    <tr>\n",
       "      <th>0</th>\n",
       "      <td>1</td>\n",
       "      <td>0</td>\n",
       "      <td>3</td>\n",
       "      <td>Braund, Mr. Owen Harris</td>\n",
       "      <td>male</td>\n",
       "      <td>22.0</td>\n",
       "      <td>1</td>\n",
       "      <td>0</td>\n",
       "      <td>A/5 21171</td>\n",
       "      <td>7.2500</td>\n",
       "      <td>NaN</td>\n",
       "      <td>S</td>\n",
       "    </tr>\n",
       "    <tr>\n",
       "      <th>1</th>\n",
       "      <td>2</td>\n",
       "      <td>1</td>\n",
       "      <td>1</td>\n",
       "      <td>Cumings, Mrs. John Bradley (Florence Briggs Th...</td>\n",
       "      <td>female</td>\n",
       "      <td>38.0</td>\n",
       "      <td>1</td>\n",
       "      <td>0</td>\n",
       "      <td>PC 17599</td>\n",
       "      <td>71.2833</td>\n",
       "      <td>C85</td>\n",
       "      <td>C</td>\n",
       "    </tr>\n",
       "    <tr>\n",
       "      <th>2</th>\n",
       "      <td>3</td>\n",
       "      <td>1</td>\n",
       "      <td>3</td>\n",
       "      <td>Heikkinen, Miss. Laina</td>\n",
       "      <td>female</td>\n",
       "      <td>26.0</td>\n",
       "      <td>0</td>\n",
       "      <td>0</td>\n",
       "      <td>STON/O2. 3101282</td>\n",
       "      <td>7.9250</td>\n",
       "      <td>NaN</td>\n",
       "      <td>S</td>\n",
       "    </tr>\n",
       "    <tr>\n",
       "      <th>3</th>\n",
       "      <td>4</td>\n",
       "      <td>1</td>\n",
       "      <td>1</td>\n",
       "      <td>Futrelle, Mrs. Jacques Heath (Lily May Peel)</td>\n",
       "      <td>female</td>\n",
       "      <td>35.0</td>\n",
       "      <td>1</td>\n",
       "      <td>0</td>\n",
       "      <td>113803</td>\n",
       "      <td>53.1000</td>\n",
       "      <td>C123</td>\n",
       "      <td>S</td>\n",
       "    </tr>\n",
       "    <tr>\n",
       "      <th>4</th>\n",
       "      <td>5</td>\n",
       "      <td>0</td>\n",
       "      <td>3</td>\n",
       "      <td>Allen, Mr. William Henry</td>\n",
       "      <td>male</td>\n",
       "      <td>35.0</td>\n",
       "      <td>0</td>\n",
       "      <td>0</td>\n",
       "      <td>373450</td>\n",
       "      <td>8.0500</td>\n",
       "      <td>NaN</td>\n",
       "      <td>S</td>\n",
       "    </tr>\n",
       "  </tbody>\n",
       "</table>\n",
       "</div>"
      ],
      "text/plain": [
       "   PassengerId  Survived  Pclass  \\\n",
       "0            1         0       3   \n",
       "1            2         1       1   \n",
       "2            3         1       3   \n",
       "3            4         1       1   \n",
       "4            5         0       3   \n",
       "\n",
       "                                                Name     Sex   Age  SibSp  \\\n",
       "0                            Braund, Mr. Owen Harris    male  22.0      1   \n",
       "1  Cumings, Mrs. John Bradley (Florence Briggs Th...  female  38.0      1   \n",
       "2                             Heikkinen, Miss. Laina  female  26.0      0   \n",
       "3       Futrelle, Mrs. Jacques Heath (Lily May Peel)  female  35.0      1   \n",
       "4                           Allen, Mr. William Henry    male  35.0      0   \n",
       "\n",
       "   Parch            Ticket     Fare Cabin Embarked  \n",
       "0      0         A/5 21171   7.2500   NaN        S  \n",
       "1      0          PC 17599  71.2833   C85        C  \n",
       "2      0  STON/O2. 3101282   7.9250   NaN        S  \n",
       "3      0            113803  53.1000  C123        S  \n",
       "4      0            373450   8.0500   NaN        S  "
      ]
     },
     "execution_count": 287,
     "metadata": {},
     "output_type": "execute_result"
    }
   ],
   "source": [
    "titanic_df.head()"
   ]
  },
  {
   "cell_type": "code",
   "execution_count": 288,
   "metadata": {},
   "outputs": [
    {
     "name": "stdout",
     "output_type": "stream",
     "text": [
      "<class 'pandas.core.frame.DataFrame'>\n",
      "RangeIndex: 891 entries, 0 to 890\n",
      "Data columns (total 12 columns):\n",
      "PassengerId    891 non-null int64\n",
      "Survived       891 non-null int64\n",
      "Pclass         891 non-null int64\n",
      "Name           891 non-null object\n",
      "Sex            891 non-null object\n",
      "Age            714 non-null float64\n",
      "SibSp          891 non-null int64\n",
      "Parch          891 non-null int64\n",
      "Ticket         891 non-null object\n",
      "Fare           891 non-null float64\n",
      "Cabin          204 non-null object\n",
      "Embarked       889 non-null object\n",
      "dtypes: float64(2), int64(5), object(5)\n",
      "memory usage: 83.6+ KB\n"
     ]
    }
   ],
   "source": [
    "titanic_df.info() # Shows metadata info of the df"
   ]
  },
  {
   "cell_type": "markdown",
   "metadata": {},
   "source": [
    "From above, we can see that the 'Age', 'Cabin' and 'Embarked' columns have missing entries."
   ]
  },
  {
   "cell_type": "code",
   "execution_count": 289,
   "metadata": {},
   "outputs": [
    {
     "data": {
      "text/html": [
       "<div>\n",
       "<style>\n",
       "    .dataframe thead tr:only-child th {\n",
       "        text-align: right;\n",
       "    }\n",
       "\n",
       "    .dataframe thead th {\n",
       "        text-align: left;\n",
       "    }\n",
       "\n",
       "    .dataframe tbody tr th {\n",
       "        vertical-align: top;\n",
       "    }\n",
       "</style>\n",
       "<table border=\"1\" class=\"dataframe\">\n",
       "  <thead>\n",
       "    <tr style=\"text-align: right;\">\n",
       "      <th></th>\n",
       "      <th>PassengerId</th>\n",
       "      <th>Survived</th>\n",
       "      <th>Pclass</th>\n",
       "      <th>Name</th>\n",
       "      <th>Sex</th>\n",
       "      <th>Age</th>\n",
       "      <th>SibSp</th>\n",
       "      <th>Parch</th>\n",
       "      <th>Ticket</th>\n",
       "      <th>Fare</th>\n",
       "      <th>Cabin</th>\n",
       "      <th>Embarked</th>\n",
       "    </tr>\n",
       "  </thead>\n",
       "  <tbody>\n",
       "    <tr>\n",
       "      <th>count</th>\n",
       "      <td>891.000000</td>\n",
       "      <td>891.000000</td>\n",
       "      <td>891.000000</td>\n",
       "      <td>891</td>\n",
       "      <td>891</td>\n",
       "      <td>714.000000</td>\n",
       "      <td>891.000000</td>\n",
       "      <td>891.000000</td>\n",
       "      <td>891</td>\n",
       "      <td>891.000000</td>\n",
       "      <td>204</td>\n",
       "      <td>889</td>\n",
       "    </tr>\n",
       "    <tr>\n",
       "      <th>unique</th>\n",
       "      <td>NaN</td>\n",
       "      <td>NaN</td>\n",
       "      <td>NaN</td>\n",
       "      <td>891</td>\n",
       "      <td>2</td>\n",
       "      <td>NaN</td>\n",
       "      <td>NaN</td>\n",
       "      <td>NaN</td>\n",
       "      <td>681</td>\n",
       "      <td>NaN</td>\n",
       "      <td>147</td>\n",
       "      <td>3</td>\n",
       "    </tr>\n",
       "    <tr>\n",
       "      <th>top</th>\n",
       "      <td>NaN</td>\n",
       "      <td>NaN</td>\n",
       "      <td>NaN</td>\n",
       "      <td>Graham, Mr. George Edward</td>\n",
       "      <td>male</td>\n",
       "      <td>NaN</td>\n",
       "      <td>NaN</td>\n",
       "      <td>NaN</td>\n",
       "      <td>CA. 2343</td>\n",
       "      <td>NaN</td>\n",
       "      <td>C23 C25 C27</td>\n",
       "      <td>S</td>\n",
       "    </tr>\n",
       "    <tr>\n",
       "      <th>freq</th>\n",
       "      <td>NaN</td>\n",
       "      <td>NaN</td>\n",
       "      <td>NaN</td>\n",
       "      <td>1</td>\n",
       "      <td>577</td>\n",
       "      <td>NaN</td>\n",
       "      <td>NaN</td>\n",
       "      <td>NaN</td>\n",
       "      <td>7</td>\n",
       "      <td>NaN</td>\n",
       "      <td>4</td>\n",
       "      <td>644</td>\n",
       "    </tr>\n",
       "    <tr>\n",
       "      <th>mean</th>\n",
       "      <td>446.000000</td>\n",
       "      <td>0.383838</td>\n",
       "      <td>2.308642</td>\n",
       "      <td>NaN</td>\n",
       "      <td>NaN</td>\n",
       "      <td>29.699118</td>\n",
       "      <td>0.523008</td>\n",
       "      <td>0.381594</td>\n",
       "      <td>NaN</td>\n",
       "      <td>32.204208</td>\n",
       "      <td>NaN</td>\n",
       "      <td>NaN</td>\n",
       "    </tr>\n",
       "    <tr>\n",
       "      <th>std</th>\n",
       "      <td>257.353842</td>\n",
       "      <td>0.486592</td>\n",
       "      <td>0.836071</td>\n",
       "      <td>NaN</td>\n",
       "      <td>NaN</td>\n",
       "      <td>14.526497</td>\n",
       "      <td>1.102743</td>\n",
       "      <td>0.806057</td>\n",
       "      <td>NaN</td>\n",
       "      <td>49.693429</td>\n",
       "      <td>NaN</td>\n",
       "      <td>NaN</td>\n",
       "    </tr>\n",
       "    <tr>\n",
       "      <th>min</th>\n",
       "      <td>1.000000</td>\n",
       "      <td>0.000000</td>\n",
       "      <td>1.000000</td>\n",
       "      <td>NaN</td>\n",
       "      <td>NaN</td>\n",
       "      <td>0.420000</td>\n",
       "      <td>0.000000</td>\n",
       "      <td>0.000000</td>\n",
       "      <td>NaN</td>\n",
       "      <td>0.000000</td>\n",
       "      <td>NaN</td>\n",
       "      <td>NaN</td>\n",
       "    </tr>\n",
       "    <tr>\n",
       "      <th>25%</th>\n",
       "      <td>223.500000</td>\n",
       "      <td>0.000000</td>\n",
       "      <td>2.000000</td>\n",
       "      <td>NaN</td>\n",
       "      <td>NaN</td>\n",
       "      <td>20.125000</td>\n",
       "      <td>0.000000</td>\n",
       "      <td>0.000000</td>\n",
       "      <td>NaN</td>\n",
       "      <td>7.910400</td>\n",
       "      <td>NaN</td>\n",
       "      <td>NaN</td>\n",
       "    </tr>\n",
       "    <tr>\n",
       "      <th>50%</th>\n",
       "      <td>446.000000</td>\n",
       "      <td>0.000000</td>\n",
       "      <td>3.000000</td>\n",
       "      <td>NaN</td>\n",
       "      <td>NaN</td>\n",
       "      <td>28.000000</td>\n",
       "      <td>0.000000</td>\n",
       "      <td>0.000000</td>\n",
       "      <td>NaN</td>\n",
       "      <td>14.454200</td>\n",
       "      <td>NaN</td>\n",
       "      <td>NaN</td>\n",
       "    </tr>\n",
       "    <tr>\n",
       "      <th>75%</th>\n",
       "      <td>668.500000</td>\n",
       "      <td>1.000000</td>\n",
       "      <td>3.000000</td>\n",
       "      <td>NaN</td>\n",
       "      <td>NaN</td>\n",
       "      <td>38.000000</td>\n",
       "      <td>1.000000</td>\n",
       "      <td>0.000000</td>\n",
       "      <td>NaN</td>\n",
       "      <td>31.000000</td>\n",
       "      <td>NaN</td>\n",
       "      <td>NaN</td>\n",
       "    </tr>\n",
       "    <tr>\n",
       "      <th>max</th>\n",
       "      <td>891.000000</td>\n",
       "      <td>1.000000</td>\n",
       "      <td>3.000000</td>\n",
       "      <td>NaN</td>\n",
       "      <td>NaN</td>\n",
       "      <td>80.000000</td>\n",
       "      <td>8.000000</td>\n",
       "      <td>6.000000</td>\n",
       "      <td>NaN</td>\n",
       "      <td>512.329200</td>\n",
       "      <td>NaN</td>\n",
       "      <td>NaN</td>\n",
       "    </tr>\n",
       "  </tbody>\n",
       "</table>\n",
       "</div>"
      ],
      "text/plain": [
       "        PassengerId    Survived      Pclass                       Name   Sex  \\\n",
       "count    891.000000  891.000000  891.000000                        891   891   \n",
       "unique          NaN         NaN         NaN                        891     2   \n",
       "top             NaN         NaN         NaN  Graham, Mr. George Edward  male   \n",
       "freq            NaN         NaN         NaN                          1   577   \n",
       "mean     446.000000    0.383838    2.308642                        NaN   NaN   \n",
       "std      257.353842    0.486592    0.836071                        NaN   NaN   \n",
       "min        1.000000    0.000000    1.000000                        NaN   NaN   \n",
       "25%      223.500000    0.000000    2.000000                        NaN   NaN   \n",
       "50%      446.000000    0.000000    3.000000                        NaN   NaN   \n",
       "75%      668.500000    1.000000    3.000000                        NaN   NaN   \n",
       "max      891.000000    1.000000    3.000000                        NaN   NaN   \n",
       "\n",
       "               Age       SibSp       Parch    Ticket        Fare        Cabin  \\\n",
       "count   714.000000  891.000000  891.000000       891  891.000000          204   \n",
       "unique         NaN         NaN         NaN       681         NaN          147   \n",
       "top            NaN         NaN         NaN  CA. 2343         NaN  C23 C25 C27   \n",
       "freq           NaN         NaN         NaN         7         NaN            4   \n",
       "mean     29.699118    0.523008    0.381594       NaN   32.204208          NaN   \n",
       "std      14.526497    1.102743    0.806057       NaN   49.693429          NaN   \n",
       "min       0.420000    0.000000    0.000000       NaN    0.000000          NaN   \n",
       "25%      20.125000    0.000000    0.000000       NaN    7.910400          NaN   \n",
       "50%      28.000000    0.000000    0.000000       NaN   14.454200          NaN   \n",
       "75%      38.000000    1.000000    0.000000       NaN   31.000000          NaN   \n",
       "max      80.000000    8.000000    6.000000       NaN  512.329200          NaN   \n",
       "\n",
       "       Embarked  \n",
       "count       889  \n",
       "unique        3  \n",
       "top           S  \n",
       "freq        644  \n",
       "mean        NaN  \n",
       "std         NaN  \n",
       "min         NaN  \n",
       "25%         NaN  \n",
       "50%         NaN  \n",
       "75%         NaN  \n",
       "max         NaN  "
      ]
     },
     "execution_count": 289,
     "metadata": {},
     "output_type": "execute_result"
    }
   ],
   "source": [
    "titanic_df.describe(include='all')"
   ]
  },
  {
   "cell_type": "markdown",
   "metadata": {},
   "source": [
    "From the above table we can deduce information like:\n",
    "        \n",
    "1. The most aged passenger was 80 years old.\n",
    "2. The highest fare taken was $512.32920.\n",
    "3. The average age of the passenger aboard was 29.69 years.\n",
    "4. The mean survival stat was 0.3838 where 1='Survived' and 0='Not Survived',\n",
    "5. The youngest passenger was 5 months old."
   ]
  },
  {
   "cell_type": "markdown",
   "metadata": {},
   "source": [
    "## Data Wrangling / Cleaning"
   ]
  },
  {
   "cell_type": "markdown",
   "metadata": {},
   "source": [
    "#### Missing Ages\n",
    "We will delete the data with missing ages because it doesn't make much sense to impute the ages neither with the average or using linear regression. "
   ]
  },
  {
   "cell_type": "code",
   "execution_count": 290,
   "metadata": {},
   "outputs": [
    {
     "data": {
      "text/plain": [
       "714"
      ]
     },
     "execution_count": 290,
     "metadata": {},
     "output_type": "execute_result"
    }
   ],
   "source": [
    "titanic_df = titanic_df[titanic_df[\"Age\"].notnull()]\n",
    "len(titanic_df)"
   ]
  },
  {
   "cell_type": "code",
   "execution_count": 291,
   "metadata": {},
   "outputs": [
    {
     "name": "stdout",
     "output_type": "stream",
     "text": [
      "<class 'pandas.core.frame.DataFrame'>\n",
      "Int64Index: 714 entries, 0 to 890\n",
      "Data columns (total 12 columns):\n",
      "PassengerId    714 non-null int64\n",
      "Survived       714 non-null int64\n",
      "Pclass         714 non-null int64\n",
      "Name           714 non-null object\n",
      "Sex            714 non-null object\n",
      "Age            714 non-null float64\n",
      "SibSp          714 non-null int64\n",
      "Parch          714 non-null int64\n",
      "Ticket         714 non-null object\n",
      "Fare           714 non-null float64\n",
      "Cabin          185 non-null object\n",
      "Embarked       712 non-null object\n",
      "dtypes: float64(2), int64(5), object(5)\n",
      "memory usage: 72.5+ KB\n"
     ]
    }
   ],
   "source": [
    "titanic_df.info()"
   ]
  },
  {
   "cell_type": "markdown",
   "metadata": {},
   "source": [
    "'Cabin','Name','Ticket','PassengerId','Embarked' columns are not required in our analysis thus we can remove them & reduce memory & cpu usage."
   ]
  },
  {
   "cell_type": "code",
   "execution_count": 292,
   "metadata": {},
   "outputs": [
    {
     "name": "stdout",
     "output_type": "stream",
     "text": [
      "<class 'pandas.core.frame.DataFrame'>\n",
      "Int64Index: 714 entries, 0 to 890\n",
      "Data columns (total 7 columns):\n",
      "Survived    714 non-null int64\n",
      "Pclass      714 non-null int64\n",
      "Sex         714 non-null object\n",
      "Age         714 non-null float64\n",
      "SibSp       714 non-null int64\n",
      "Parch       714 non-null int64\n",
      "Fare        714 non-null float64\n",
      "dtypes: float64(2), int64(4), object(1)\n",
      "memory usage: 44.6+ KB\n"
     ]
    }
   ],
   "source": [
    "titanic_df = titanic_df.drop(['Cabin','Name','Ticket','PassengerId','Embarked'], axis=1)\n",
    "titanic_df.info()"
   ]
  },
  {
   "cell_type": "code",
   "execution_count": 293,
   "metadata": {},
   "outputs": [
    {
     "name": "stdout",
     "output_type": "stream",
     "text": [
      "total_people      : 714\n",
      "survivors         : 290\n",
      "nonsurvivors      : 424\n",
      "males             : 453\n",
      "females           : 261\n",
      "male_survivors    : 93\n",
      "female_survivors  : 197\n",
      "child_survivors   : 61\n",
      "adult_survivors   : 220\n",
      "% survivors       : 40.6162464986\n",
      "% male_survivors  : 20.5298013245\n",
      "% female_survivors: 75.4789272031\n",
      "% child_survivors : 53.982300885\n",
      "% adult_survivors : 38.2608695652\n"
     ]
    }
   ],
   "source": [
    "total_people = len(titanic_df)\n",
    "survivors = len(titanic_df[titanic_df.Survived==1])\n",
    "nonsurvivors = len(titanic_df[titanic_df.Survived==0])\n",
    "males = len(titanic_df[titanic_df.Sex=='male'])\n",
    "females = len(titanic_df[titanic_df.Sex=='female'])\n",
    "\n",
    "male_survivors = len(titanic_df[titanic_df.Survived==1][titanic_df.Sex=='male'])\n",
    "female_survivors = len(titanic_df[titanic_df.Survived==1][titanic_df.Sex=='female'])\n",
    "\n",
    "child = len(titanic_df[titanic_df.Age<18])\n",
    "adult = len(titanic_df[titanic_df.Age>18])\n",
    "\n",
    "child_survivors = len(titanic_df[titanic_df.Survived==1][titanic_df.Age<18])\n",
    "adult_survivors = len(titanic_df[titanic_df.Survived==1][titanic_df.Age>18])\n",
    "\n",
    "print \"total_people      :\", total_people\n",
    "print \"survivors         :\", survivors\n",
    "print \"nonsurvivors      :\", nonsurvivors\n",
    "print \"males             :\", males\n",
    "print \"females           :\", females\n",
    "print \"male_survivors    :\", male_survivors\n",
    "print \"female_survivors  :\", female_survivors\n",
    "print \"child_survivors   :\", child_survivors\n",
    "print \"adult_survivors   :\", adult_survivors\n",
    "\n",
    "print \"% survivors       :\", float(survivors)*100/total_people\n",
    "\n",
    "print \"% male_survivors  :\", float(male_survivors)*100/males\n",
    "print \"% female_survivors:\", float(female_survivors)*100/females\n",
    "\n",
    "print \"% child_survivors :\", float(child_survivors)*100/child\n",
    "print \"% adult_survivors :\", float(adult_survivors)*100/adult"
   ]
  },
  {
   "cell_type": "markdown",
   "metadata": {},
   "source": [
    " ### Which gender had a better chance of survival ?"
   ]
  },
  {
   "cell_type": "code",
   "execution_count": 294,
   "metadata": {},
   "outputs": [
    {
     "data": {
      "image/png": "[encoded data removed]",
      "text/plain": [
       "<matplotlib.figure.Figure at 0xf8b7b70>"
      ]
     },
     "metadata": {},
     "output_type": "display_data"
    }
   ],
   "source": [
    "import seaborn as sns\n",
    "import matplotlib.pyplot as plt\n",
    "%matplotlib inline\n",
    "\n",
    "sns.set(style=\"darkgrid\")\n",
    "sns.barplot(data=titanic_df,x=\"Sex\",y=\"Survived\")\n",
    "sns.plt.show()"
   ]
  },
  {
   "cell_type": "markdown",
   "metadata": {},
   "source": [
    "We can see clearly over here that the females had a considerable higher percentage of survival compared to males."
   ]
  },
  {
   "cell_type": "markdown",
   "metadata": {},
   "source": [
    "### Which age group had a better chance of survival ?"
   ]
  },
  {
   "cell_type": "code",
   "execution_count": 295,
   "metadata": {
    "collapsed": true
   },
   "outputs": [],
   "source": [
    "def isChild(x):\n",
    "    if x > 18:\n",
    "        return 0\n",
    "    else:\n",
    "        return 1\n",
    "titanic_df[\"IsChild\"] = pd.Series(titanic_df[\"Age\"].apply(isChild), index=titanic_df.index)"
   ]
  },
  {
   "cell_type": "code",
   "execution_count": 296,
   "metadata": {},
   "outputs": [
    {
     "data": {
      "image/png": "[encoded data removed]",
      "text/plain": [
       "<matplotlib.figure.Figure at 0xd5b6da0>"
      ]
     },
     "metadata": {},
     "output_type": "display_data"
    }
   ],
   "source": [
    "import seaborn as sns\n",
    "import matplotlib.pyplot as plt\n",
    "%matplotlib inline\n",
    "\n",
    "sns.set(style=\"darkgrid\")\n",
    "sns.barplot(data=titanic_df,x=\"IsChild\",y=\"Survived\")\n",
    "sns.plt.show()"
   ]
  },
  {
   "cell_type": "markdown",
   "metadata": {},
   "source": [
    "And being a child also had better chances of survival."
   ]
  },
  {
   "cell_type": "code",
   "execution_count": 297,
   "metadata": {},
   "outputs": [
    {
     "data": {
      "image/png": "[encoded data removed]",
      "text/plain": [
       "<matplotlib.figure.Figure at 0xf813588>"
      ]
     },
     "metadata": {},
     "output_type": "display_data"
    }
   ],
   "source": [
    "sns.barplot(data=titanic_df, x=\"Sex\", y=\"Survived\", hue=\"IsChild\")\n",
    "sns.plt.show()"
   ]
  },
  {
   "cell_type": "markdown",
   "metadata": {},
   "source": [
    "Even amongst the children being female had a clear advantage\n",
    "\n",
    "But Female adults had a higher mean of survival than the female child"
   ]
  },
  {
   "cell_type": "markdown",
   "metadata": {},
   "source": [
    "### What is the best age to survive?"
   ]
  },
  {
   "cell_type": "code",
   "execution_count": 298,
   "metadata": {},
   "outputs": [
    {
     "data": {
      "image/png": "[encoded data removed]",
      "text/plain": [
       "<matplotlib.figure.Figure at 0x10255c18>"
      ]
     },
     "metadata": {},
     "output_type": "display_data"
    }
   ],
   "source": [
    "# survivors distributed by age.\n",
    "survivors_ages = titanic_df[titanic_df[\"Survived\"] == 1][\"Age\"]\n",
    "ax = sns.distplot(survivors_ages)\n",
    "ax.set(xlabel='Age', ylabel='Percent Survivors')\n",
    "sns.plt.show()"
   ]
  },
  {
   "cell_type": "markdown",
   "metadata": {},
   "source": [
    "We can see that most of the survivors had an age from 20 to 40."
   ]
  },
  {
   "cell_type": "code",
   "execution_count": 299,
   "metadata": {},
   "outputs": [
    {
     "data": {
      "image/png": "[encoded data removed]",
      "text/plain": [
       "<matplotlib.figure.Figure at 0x11b41240>"
      ]
     },
     "metadata": {},
     "output_type": "display_data"
    }
   ],
   "source": [
    "# Compare the ages of survived & not survived passengers\n",
    "sns.jointplot(\"Age\", \"Survived\", data=titanic_df, kind=\"kde\", space=0, color=\"b\")\n",
    "sns.plt.show()"
   ]
  },
  {
   "cell_type": "markdown",
   "metadata": {},
   "source": [
    "We also see that non survivors mostly had age between 20 and 40.\n",
    "\n",
    "Thus to find best age of survival we will calculate the percentage of survivors for each age."
   ]
  },
  {
   "cell_type": "code",
   "execution_count": 300,
   "metadata": {},
   "outputs": [
    {
     "data": {
      "text/plain": [
       "<matplotlib.axes._subplots.AxesSubplot at 0x12872358>"
      ]
     },
     "execution_count": 300,
     "metadata": {},
     "output_type": "execute_result"
    },
    {
     "data": {
      "image/png": "[encoded data removed]",
      "text/plain": [
       "<matplotlib.figure.Figure at 0x1285c048>"
      ]
     },
     "metadata": {},
     "output_type": "display_data"
    }
   ],
   "source": [
    "max_age = int(titanic_df[\"Age\"].max())\n",
    "age_dist = pd.DataFrame(index=xrange(max_age),columns=[\"Survived\", \"NotSurvived\"])\n",
    "age_dist = age_dist.fillna(0)\n",
    "for age in age_dist.index:\n",
    "    age_survive = titanic_df[titanic_df[\"Age\"].astype(int) == age][\"Survived\"]\n",
    "    age_dist.loc[age, \"NotSurvived\"] = sum(age_survive == 0)\n",
    "    age_dist.loc[age, \"Survived\"] = sum(age_survive == 1)\n",
    "\n",
    "survived_props = age_dist.Survived / age_dist.sum(axis=\"columns\")\n",
    "survived_props = survived_props.fillna(0)\n",
    "survived_props.index.name = \"Age\"\n",
    "survived_props.name = \"Percent survivors\"\n",
    "survived_props.plot(kind=\"bar\", figsize=(20,4),legend=True)"
   ]
  },
  {
   "cell_type": "code",
   "execution_count": 301,
   "metadata": {},
   "outputs": [
    {
     "data": {
      "text/plain": [
       "Age\n",
       "0    1.000000\n",
       "1    0.714286\n",
       "2    0.300000\n",
       "3    0.833333\n",
       "4    0.700000\n",
       "Name: Percent survivors, dtype: float64"
      ]
     },
     "execution_count": 301,
     "metadata": {},
     "output_type": "execute_result"
    }
   ],
   "source": [
    "survived_props.head()"
   ]
  },
  {
   "cell_type": "markdown",
   "metadata": {},
   "source": [
    "This plot shows the % of survived person by age. We see that there are some ages with 100% of survivors i.e. 0, 5, 12, 13, 53 and 63 years old."
   ]
  },
  {
   "cell_type": "markdown",
   "metadata": {},
   "source": [
    "### Which social class had a better chance of survival ?"
   ]
  },
  {
   "cell_type": "code",
   "execution_count": 302,
   "metadata": {},
   "outputs": [
    {
     "data": {
      "image/png": "[encoded data removed]",
      "text/plain": [
       "<matplotlib.figure.Figure at 0x125c9a20>"
      ]
     },
     "metadata": {},
     "output_type": "display_data"
    }
   ],
   "source": [
    "sns.barplot(data=titanic_df, x=\"Sex\", y=\"Survived\", hue=\"Pclass\")\n",
    "sns.plt.show()"
   ]
  },
  {
   "cell_type": "markdown",
   "metadata": {},
   "source": [
    "Survived women in first and second classes doubles the mean of third class. But in case of men, just the first class have difference in survived mean. "
   ]
  },
  {
   "cell_type": "code",
   "execution_count": 303,
   "metadata": {},
   "outputs": [
    {
     "data": {
      "image/png": "[encoded data removed]",
      "text/plain": [
       "<matplotlib.figure.Figure at 0x127c9668>"
      ]
     },
     "metadata": {},
     "output_type": "display_data"
    }
   ],
   "source": [
    "sns.barplot(data=titanic_df, x=\"Pclass\", y=\"Survived\")\n",
    "sns.plt.show()"
   ]
  },
  {
   "cell_type": "markdown",
   "metadata": {},
   "source": [
    "Thus the survival rate seems to be clearly influenced by the ticket class."
   ]
  },
  {
   "cell_type": "markdown",
   "metadata": {},
   "source": [
    "### Which one of Single, Husband, Father had a higher survival percent ?\n",
    "\n",
    "To answer this question we will create a new categorized field *FamilyMan* with 3 values depending if he is Single, Husband, or Father(husband with kids)."
   ]
  },
  {
   "cell_type": "code",
   "execution_count": 304,
   "metadata": {},
   "outputs": [
    {
     "name": "stdout",
     "output_type": "stream",
     "text": [
      "Single     299\n",
      "Husband     59\n",
      "Father      24\n",
      "Name: FamilyMan, dtype: int64\n"
     ]
    }
   ],
   "source": [
    "import warnings\n",
    "warnings.filterwarnings('ignore')\n",
    "\n",
    "def isAdultMan(x):\n",
    "    return x[\"IsChild\"] == 0 and x[\"Sex\"] == \"male\"\n",
    "\n",
    "man_titanic_df = titanic_df[titanic_df.apply(isAdultMan, axis=1)]\n",
    "\n",
    "def isFamilyMan(x):\n",
    "    if x[\"SibSp\"] > 0:\n",
    "        if x[\"Parch\"] > 0:\n",
    "            return \"Father\"\n",
    "        else:\n",
    "            return \"Husband\"\n",
    "    else:\n",
    "        return \"Single\"\n",
    "\n",
    "man_titanic_df[\"FamilyMan\"] = pd.Series(man_titanic_df.apply(isFamilyMan, axis=1), index=man_titanic_df.index)\n",
    "\n",
    "print man_titanic_df[\"FamilyMan\"].value_counts()"
   ]
  },
  {
   "cell_type": "code",
   "execution_count": 305,
   "metadata": {},
   "outputs": [
    {
     "data": {
      "image/png": "[encoded data removed]",
      "text/plain": [
       "<matplotlib.figure.Figure at 0xe5ef438>"
      ]
     },
     "metadata": {},
     "output_type": "display_data"
    }
   ],
   "source": [
    "sns.factorplot(data=man_titanic_df,x=\"Survived\", col=\"FamilyMan\", kind=\"count\")\n",
    "sns.plt.show()"
   ]
  },
  {
   "cell_type": "code",
   "execution_count": 306,
   "metadata": {},
   "outputs": [
    {
     "name": "stdout",
     "output_type": "stream",
     "text": [
      "Percent of Husbands survived: 23.7288135593\n",
      "Percent of Singles survived: 17.0568561873\n",
      "Percent of Fathers survived: 16.6666666667\n"
     ]
    }
   ],
   "source": [
    "def percentSurvived(x, type):\n",
    "    sub = x[x[\"FamilyMan\"] == type]\n",
    "    total = len(sub)\n",
    "    survived = sum(sub[\"Survived\"] == 1)\n",
    "    return float(survived)/total * 100\n",
    "\n",
    "print \"Percent of Husbands survived:\", percentSurvived(man_titanic_df,\"Husband\")\n",
    "print \"Percent of Singles survived:\", percentSurvived(man_titanic_df,\"Single\")\n",
    "print \"Percent of Fathers survived:\", percentSurvived(man_titanic_df,\"Father\")"
   ]
  },
  {
   "cell_type": "markdown",
   "metadata": {},
   "source": [
    "### Conclusions\n",
    "\n",
    "So far we've assumed there is no difference between proportions for each sample. But what happens if this is not true? We can find this with a two-proportion z-test and determine wether the difference between two proportions is significant.\n",
    "\n",
    "Lest conduct a hypothesis test to see if there is a significant difference between proportions. In first place, male and female:\n",
    "\n",
    "$$H_{0} : P_{male} - P_{female} = 0$$ $$H_{A} : P_{male} - P_{female} \\neq 0$$"
   ]
  },
  {
   "cell_type": "code",
   "execution_count": 307,
   "metadata": {},
   "outputs": [
    {
     "name": "stdout",
     "output_type": "stream",
     "text": [
      "total people : 714\n",
      "males        : 453\n",
      "females      : 261\n"
     ]
    }
   ],
   "source": [
    "males = titanic_df[titanic_df[\"Sex\"]== \"male\"]\n",
    "females = titanic_df[titanic_df[\"Sex\"]== \"female\"]\n",
    "total_people = len(males) + len(females)\n",
    "print \"total people :\", total_people\n",
    "print \"males        :\", len(males)\n",
    "print \"females      :\", len(females)"
   ]
  },
  {
   "cell_type": "markdown",
   "metadata": {},
   "source": [
    "To perform the test, these four counditions need to be met:\n",
    "    \n",
    "   * The sampling method for each population is simple random sampling.\n",
    "   * The samples are independent.\n",
    "   * Each sample includes at least 10 successes and 10 failures.\n",
    "   * Each population is at least 20 times as big as its sample.\n",
    "   \n",
    "And in this case not all the conditions are true, the population is not 20 times bigger, but we are going to assume it's enough.\n",
    "\n",
    "So lets continue the test, using the **two-proportion z-test** and a significance level ** $\\alpha = 0.05 $ **\n",
    "\n",
    "**Pooled sample proportion**:\n",
    "$$p = \\frac{p_{male} * n_{male} + p_{female} * n_{female}}{n_{male} + n_{female}}$$\n",
    "**Standard error**:\n",
    "$$SE = \\sqrt{p * (1-p) * (\\frac{1}{n_{male}} + \\frac{1}{n_{female}})}$$\n",
    "**Test statistic**:\n",
    "$$z = \\frac{p_{male} - p_{female}}{SE}$$\n"
   ]
  },
  {
   "cell_type": "code",
   "execution_count": 308,
   "metadata": {},
   "outputs": [
    {
     "name": "stdout",
     "output_type": "stream",
     "text": [
      "Pooled sample proportion  : 0.406162464986\n",
      "Standard Error            : 0.0381648418165\n",
      "Z statistic               : -14.3978392843\n"
     ]
    }
   ],
   "source": [
    "import math\n",
    "p_males = float(len(males[males[\"Survived\"] == 1])) / len(males)\n",
    "p_females = float(len(females[females[\"Survived\"] == 1])) / len(females)\n",
    "p = (p_males * len(males) + p_females * len(females)) / total_people\n",
    "SE = math.sqrt(p * ( 1 - p ) * ( float(1)/len(males) + float(1)/len(females) ))\n",
    "z = (p_male - p_female) / SE\n",
    "\n",
    "print \"Pooled sample proportion  :\", p\n",
    "print \"Standard Error            :\", SE\n",
    "print \"Z statistic               :\", z"
   ]
  },
  {
   "cell_type": "markdown",
   "metadata": {},
   "source": [
    "Given that z-score, the P-value is going to be very very small (smaller than our significance level 0.05). So we can consider reject the null hypothesis and say that in this scenario there is a significant difference between proportions.\n",
    "\n",
    "Doing the same with child/adult scenario:"
   ]
  },
  {
   "cell_type": "code",
   "execution_count": 309,
   "metadata": {},
   "outputs": [
    {
     "name": "stdout",
     "output_type": "stream",
     "text": [
      "total people : 714\n",
      "childs       : 139\n",
      "adults       : 575\n"
     ]
    }
   ],
   "source": [
    "child = titanic_df[titanic_df[\"IsChild\"]== 1]\n",
    "adult = titanic_df[titanic_df[\"IsChild\"]== 0]\n",
    "print \"total people :\", total_people\n",
    "print \"childs       :\", len(child)\n",
    "print \"adults       :\", len(adult)"
   ]
  },
  {
   "cell_type": "code",
   "execution_count": 310,
   "metadata": {},
   "outputs": [
    {
     "name": "stdout",
     "output_type": "stream",
     "text": [
      "Pooled sample proportion  : 0.406162464986\n",
      "Standard Error            : 0.0464185423935\n",
      "Z statistic               : 2.60646759703\n"
     ]
    }
   ],
   "source": [
    "p_child = float(len(child[child[\"Survived\"] == 1])) / len(child)\n",
    "p_adult = float(len(adult[adult[\"Survived\"] == 1])) / len(adult)\n",
    "p = (p_child * len(child) + p_adult * len(adult)) / total_people\n",
    "SE = math.sqrt(p * ( 1 - p ) * ( float(1)/len(child) + float(1)/len(adult) ))\n",
    "z = (p_child - p_adult) / SE\n",
    "\n",
    "print \"Pooled sample proportion  :\", p\n",
    "print \"Standard Error            :\", SE\n",
    "print \"Z statistic               :\", z"
   ]
  },
  {
   "cell_type": "markdown",
   "metadata": {},
   "source": [
    "And the P-value for P(z > 2.606) = 0.0039 in a two-tailed test is 0.0039 + 0.0039. So **P-value = 0.0078**, smaller than 0.05 and again the difference between proportions are significant. You can see that this same test can be done with many other answers (all where proportions are compared). \n",
    "\n",
    "The main conclusion about these questions is that the data set is not a good sample to perform some analysis and made conclusions about the population."
   ]
  },
  {
   "cell_type": "markdown",
   "metadata": {},
   "source": [
    "### References\n",
    "\n",
    "- Kaggle titanic competition page (https://www.kaggle.com/c/titanic)\n",
    "- https://www.kaggle.com/omarelgabry/titanic/a-journey-through-titanic\n",
    "- Seaborn statistical data visualization reference page (http://stanford.edu/~mwaskom/software/seaborn/)\n",
    "- Pandas documentation (http://pandas.pydata.org/pandas-docs/stable/#)\n",
    "- Test statistics for difference between proportions (http://stattrek.com/hypothesis-test/difference-in-proportions.aspx)\n",
    "- http://www.dataiku.com/blog/2014/05/12/DSS-Titanic-Kaggle-part-1.html\n",
    "- http://cs229.stanford.edu/proj2012/LamTang-TitanicMachineLearningFromDisaster.pdf\n",
    "- http://www.anesi.com/titanic.htm\n",
    "- https://www.snip2code.com/Snippet/582479/data-science-code"
   ]
  }
 ],
 "metadata": {
  "kernelspec": {
   "display_name": "Python 2",
   "language": "python",
   "name": "python2"
  },
  "language_info": {
   "codemirror_mode": {
    "name": "ipython",
    "version": 2
   },
   "file_extension": ".py",
   "mimetype": "text/x-python",
   "name": "python",
   "nbconvert_exporter": "python",
   "pygments_lexer": "ipython2",
   "version": "2.7.13"
  }
 },
 "nbformat": 4,
 "nbformat_minor": 2
}
